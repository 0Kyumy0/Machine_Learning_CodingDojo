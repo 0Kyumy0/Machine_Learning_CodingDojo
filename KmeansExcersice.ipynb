{
  "nbformat": 4,
  "nbformat_minor": 0,
  "metadata": {
    "colab": {
      "provenance": [],
      "toc_visible": true,
      "mount_file_id": "1AbKJ7_3j8YPuRtG3LgxLtZ4DLtQz8GAy",
      "authorship_tag": "ABX9TyOSYFYz5nEiy8KhVcB5lhCG",
      "include_colab_link": true
    },
    "kernelspec": {
      "name": "python3",
      "display_name": "Python 3"
    },
    "language_info": {
      "name": "python"
    }
  },
  "cells": [
    {
      "cell_type": "markdown",
      "metadata": {
        "id": "view-in-github",
        "colab_type": "text"
      },
      "source": [
        "<a href=\"https://colab.research.google.com/github/0Kyumy0/Machine_Learning_CodingDojo/blob/Unsupervised_models/KmeansExcersice.ipynb\" target=\"_parent\"><img src=\"https://colab.research.google.com/assets/colab-badge.svg\" alt=\"Open In Colab\"/></a>"
      ]
    },
    {
      "cell_type": "code",
      "execution_count": null,
      "metadata": {
        "id": "l3S9LXYZ1YVY"
      },
      "outputs": [],
      "source": [
        "import pandas as pd\n",
        "import numpy as np\n",
        "import matplotlib.pyplot as plt\n",
        "import seaborn as sns\n",
        "\n",
        "from sklearn.cluster import KMeans\n",
        "from sklearn.metrics import silhouette_score"
      ]
    },
    {
      "cell_type": "code",
      "source": [
        "filename = '/content/drive/MyDrive/DataScience/BasesDeDatos/cust_seg.csv'\n",
        "df = pd.read_csv(filename)\n",
        "df.head()"
      ],
      "metadata": {
        "colab": {
          "base_uri": "https://localhost:8080/",
          "height": 206
        },
        "id": "KGCFHbja2KR2",
        "outputId": "ad6baa21-668b-4760-8aea-b49b037fadb9"
      },
      "execution_count": null,
      "outputs": [
        {
          "output_type": "execute_result",
          "data": {
            "text/plain": [
              "   Unnamed: 0  Customer Id  Age  Edu  Years Employed  Income  Card Debt  \\\n",
              "0           0            1   41    2               6      19      0.124   \n",
              "1           1            2   47    1              26     100      4.582   \n",
              "2           2            3   33    2              10      57      6.111   \n",
              "3           3            4   29    2               4      19      0.681   \n",
              "4           4            5   47    1              31     253      9.308   \n",
              "\n",
              "   Other Debt  Defaulted  DebtIncomeRatio  \n",
              "0       1.073        0.0              6.3  \n",
              "1       8.218        0.0             12.8  \n",
              "2       5.802        1.0             20.9  \n",
              "3       0.516        0.0              6.3  \n",
              "4       8.908        0.0              7.2  "
            ],
            "text/html": [
              "\n",
              "  <div id=\"df-fd3e1ff8-234c-4c95-8d78-9b0be7c88334\">\n",
              "    <div class=\"colab-df-container\">\n",
              "      <div>\n",
              "<style scoped>\n",
              "    .dataframe tbody tr th:only-of-type {\n",
              "        vertical-align: middle;\n",
              "    }\n",
              "\n",
              "    .dataframe tbody tr th {\n",
              "        vertical-align: top;\n",
              "    }\n",
              "\n",
              "    .dataframe thead th {\n",
              "        text-align: right;\n",
              "    }\n",
              "</style>\n",
              "<table border=\"1\" class=\"dataframe\">\n",
              "  <thead>\n",
              "    <tr style=\"text-align: right;\">\n",
              "      <th></th>\n",
              "      <th>Unnamed: 0</th>\n",
              "      <th>Customer Id</th>\n",
              "      <th>Age</th>\n",
              "      <th>Edu</th>\n",
              "      <th>Years Employed</th>\n",
              "      <th>Income</th>\n",
              "      <th>Card Debt</th>\n",
              "      <th>Other Debt</th>\n",
              "      <th>Defaulted</th>\n",
              "      <th>DebtIncomeRatio</th>\n",
              "    </tr>\n",
              "  </thead>\n",
              "  <tbody>\n",
              "    <tr>\n",
              "      <th>0</th>\n",
              "      <td>0</td>\n",
              "      <td>1</td>\n",
              "      <td>41</td>\n",
              "      <td>2</td>\n",
              "      <td>6</td>\n",
              "      <td>19</td>\n",
              "      <td>0.124</td>\n",
              "      <td>1.073</td>\n",
              "      <td>0.0</td>\n",
              "      <td>6.3</td>\n",
              "    </tr>\n",
              "    <tr>\n",
              "      <th>1</th>\n",
              "      <td>1</td>\n",
              "      <td>2</td>\n",
              "      <td>47</td>\n",
              "      <td>1</td>\n",
              "      <td>26</td>\n",
              "      <td>100</td>\n",
              "      <td>4.582</td>\n",
              "      <td>8.218</td>\n",
              "      <td>0.0</td>\n",
              "      <td>12.8</td>\n",
              "    </tr>\n",
              "    <tr>\n",
              "      <th>2</th>\n",
              "      <td>2</td>\n",
              "      <td>3</td>\n",
              "      <td>33</td>\n",
              "      <td>2</td>\n",
              "      <td>10</td>\n",
              "      <td>57</td>\n",
              "      <td>6.111</td>\n",
              "      <td>5.802</td>\n",
              "      <td>1.0</td>\n",
              "      <td>20.9</td>\n",
              "    </tr>\n",
              "    <tr>\n",
              "      <th>3</th>\n",
              "      <td>3</td>\n",
              "      <td>4</td>\n",
              "      <td>29</td>\n",
              "      <td>2</td>\n",
              "      <td>4</td>\n",
              "      <td>19</td>\n",
              "      <td>0.681</td>\n",
              "      <td>0.516</td>\n",
              "      <td>0.0</td>\n",
              "      <td>6.3</td>\n",
              "    </tr>\n",
              "    <tr>\n",
              "      <th>4</th>\n",
              "      <td>4</td>\n",
              "      <td>5</td>\n",
              "      <td>47</td>\n",
              "      <td>1</td>\n",
              "      <td>31</td>\n",
              "      <td>253</td>\n",
              "      <td>9.308</td>\n",
              "      <td>8.908</td>\n",
              "      <td>0.0</td>\n",
              "      <td>7.2</td>\n",
              "    </tr>\n",
              "  </tbody>\n",
              "</table>\n",
              "</div>\n",
              "      <button class=\"colab-df-convert\" onclick=\"convertToInteractive('df-fd3e1ff8-234c-4c95-8d78-9b0be7c88334')\"\n",
              "              title=\"Convert this dataframe to an interactive table.\"\n",
              "              style=\"display:none;\">\n",
              "        \n",
              "  <svg xmlns=\"http://www.w3.org/2000/svg\" height=\"24px\"viewBox=\"0 0 24 24\"\n",
              "       width=\"24px\">\n",
              "    <path d=\"M0 0h24v24H0V0z\" fill=\"none\"/>\n",
              "    <path d=\"M18.56 5.44l.94 2.06.94-2.06 2.06-.94-2.06-.94-.94-2.06-.94 2.06-2.06.94zm-11 1L8.5 8.5l.94-2.06 2.06-.94-2.06-.94L8.5 2.5l-.94 2.06-2.06.94zm10 10l.94 2.06.94-2.06 2.06-.94-2.06-.94-.94-2.06-.94 2.06-2.06.94z\"/><path d=\"M17.41 7.96l-1.37-1.37c-.4-.4-.92-.59-1.43-.59-.52 0-1.04.2-1.43.59L10.3 9.45l-7.72 7.72c-.78.78-.78 2.05 0 2.83L4 21.41c.39.39.9.59 1.41.59.51 0 1.02-.2 1.41-.59l7.78-7.78 2.81-2.81c.8-.78.8-2.07 0-2.86zM5.41 20L4 18.59l7.72-7.72 1.47 1.35L5.41 20z\"/>\n",
              "  </svg>\n",
              "      </button>\n",
              "      \n",
              "  <style>\n",
              "    .colab-df-container {\n",
              "      display:flex;\n",
              "      flex-wrap:wrap;\n",
              "      gap: 12px;\n",
              "    }\n",
              "\n",
              "    .colab-df-convert {\n",
              "      background-color: #E8F0FE;\n",
              "      border: none;\n",
              "      border-radius: 50%;\n",
              "      cursor: pointer;\n",
              "      display: none;\n",
              "      fill: #1967D2;\n",
              "      height: 32px;\n",
              "      padding: 0 0 0 0;\n",
              "      width: 32px;\n",
              "    }\n",
              "\n",
              "    .colab-df-convert:hover {\n",
              "      background-color: #E2EBFA;\n",
              "      box-shadow: 0px 1px 2px rgba(60, 64, 67, 0.3), 0px 1px 3px 1px rgba(60, 64, 67, 0.15);\n",
              "      fill: #174EA6;\n",
              "    }\n",
              "\n",
              "    [theme=dark] .colab-df-convert {\n",
              "      background-color: #3B4455;\n",
              "      fill: #D2E3FC;\n",
              "    }\n",
              "\n",
              "    [theme=dark] .colab-df-convert:hover {\n",
              "      background-color: #434B5C;\n",
              "      box-shadow: 0px 1px 3px 1px rgba(0, 0, 0, 0.15);\n",
              "      filter: drop-shadow(0px 1px 2px rgba(0, 0, 0, 0.3));\n",
              "      fill: #FFFFFF;\n",
              "    }\n",
              "  </style>\n",
              "\n",
              "      <script>\n",
              "        const buttonEl =\n",
              "          document.querySelector('#df-fd3e1ff8-234c-4c95-8d78-9b0be7c88334 button.colab-df-convert');\n",
              "        buttonEl.style.display =\n",
              "          google.colab.kernel.accessAllowed ? 'block' : 'none';\n",
              "\n",
              "        async function convertToInteractive(key) {\n",
              "          const element = document.querySelector('#df-fd3e1ff8-234c-4c95-8d78-9b0be7c88334');\n",
              "          const dataTable =\n",
              "            await google.colab.kernel.invokeFunction('convertToInteractive',\n",
              "                                                     [key], {});\n",
              "          if (!dataTable) return;\n",
              "\n",
              "          const docLinkHtml = 'Like what you see? Visit the ' +\n",
              "            '<a target=\"_blank\" href=https://colab.research.google.com/notebooks/data_table.ipynb>data table notebook</a>'\n",
              "            + ' to learn more about interactive tables.';\n",
              "          element.innerHTML = '';\n",
              "          dataTable['output_type'] = 'display_data';\n",
              "          await google.colab.output.renderOutput(dataTable, element);\n",
              "          const docLink = document.createElement('div');\n",
              "          docLink.innerHTML = docLinkHtml;\n",
              "          element.appendChild(docLink);\n",
              "        }\n",
              "      </script>\n",
              "    </div>\n",
              "  </div>\n",
              "  "
            ]
          },
          "metadata": {},
          "execution_count": 46
        }
      ]
    },
    {
      "cell_type": "code",
      "source": [
        "df.info() # there are missing values at the 'Defaulted' column"
      ],
      "metadata": {
        "colab": {
          "base_uri": "https://localhost:8080/"
        },
        "id": "pJ217P4i4F9F",
        "outputId": "b56d57dc-01f9-432d-8016-f823c7dbfba9"
      },
      "execution_count": null,
      "outputs": [
        {
          "output_type": "stream",
          "name": "stdout",
          "text": [
            "<class 'pandas.core.frame.DataFrame'>\n",
            "RangeIndex: 850 entries, 0 to 849\n",
            "Data columns (total 10 columns):\n",
            " #   Column           Non-Null Count  Dtype  \n",
            "---  ------           --------------  -----  \n",
            " 0   Unnamed: 0       850 non-null    int64  \n",
            " 1   Customer Id      850 non-null    int64  \n",
            " 2   Age              850 non-null    int64  \n",
            " 3   Edu              850 non-null    int64  \n",
            " 4   Years Employed   850 non-null    int64  \n",
            " 5   Income           850 non-null    int64  \n",
            " 6   Card Debt        850 non-null    float64\n",
            " 7   Other Debt       850 non-null    float64\n",
            " 8   Defaulted        700 non-null    float64\n",
            " 9   DebtIncomeRatio  850 non-null    float64\n",
            "dtypes: float64(4), int64(6)\n",
            "memory usage: 66.5 KB\n"
          ]
        }
      ]
    },
    {
      "cell_type": "code",
      "source": [
        "df.duplicated().sum()"
      ],
      "metadata": {
        "colab": {
          "base_uri": "https://localhost:8080/"
        },
        "id": "MS_-d4Ys4M1d",
        "outputId": "5c6f1425-f9e5-4eff-b6e5-ec404aa46a70"
      },
      "execution_count": null,
      "outputs": [
        {
          "output_type": "execute_result",
          "data": {
            "text/plain": [
              "0"
            ]
          },
          "metadata": {},
          "execution_count": 48
        }
      ]
    },
    {
      "cell_type": "markdown",
      "source": [
        "# Cleaning and exploration"
      ],
      "metadata": {
        "id": "rkpncdnAEUbT"
      }
    },
    {
      "cell_type": "code",
      "source": [
        "# I renamed the columns in the same way as the original, but adding underscores at the spaces between words\n",
        "df = df.rename(columns={'Years Employed': 'Years_Employed', 'Card Debt': 'Card_Debt', 'Other Debt': 'Other_Debt'})"
      ],
      "metadata": {
        "id": "2Xz8lsPN6a6T"
      },
      "execution_count": null,
      "outputs": []
    },
    {
      "cell_type": "code",
      "source": [
        "df = df.drop(columns='Unnamed: 0') # drop the inncesary column an set the 'Customer Id' as the Id of the data set.\n",
        "df = df.set_index('Customer Id', drop=True)"
      ],
      "metadata": {
        "id": "g2MeimQi20EN"
      },
      "execution_count": null,
      "outputs": []
    },
    {
      "cell_type": "code",
      "source": [
        "corr = df.corr()\n",
        "sns.heatmap(corr, annot = True);"
      ],
      "metadata": {
        "colab": {
          "base_uri": "https://localhost:8080/",
          "height": 542
        },
        "id": "jJCjJnjgAIg1",
        "outputId": "25ab79d6-92a5-4b0b-f288-6bd6eb3a29b8"
      },
      "execution_count": null,
      "outputs": [
        {
          "output_type": "display_data",
          "data": {
            "text/plain": [
              "<Figure size 640x480 with 2 Axes>"
            ],
            "image/png": "[encoded data removed]"
          },
          "metadata": {}
        }
      ]
    },
    {
      "cell_type": "markdown",
      "source": [
        "### Age"
      ],
      "metadata": {
        "id": "MueexQmIFN-C"
      }
    },
    {
      "cell_type": "code",
      "source": [
        "# will make ranges for the ages.\n",
        "print(df['Age'].min())\n",
        "print(df['Age'].max())"
      ],
      "metadata": {
        "id": "tf7Td7Os38EF",
        "colab": {
          "base_uri": "https://localhost:8080/"
        },
        "outputId": "b446353b-f7d1-4ec8-8027-5f89333f89d5"
      },
      "execution_count": null,
      "outputs": [
        {
          "output_type": "stream",
          "name": "stdout",
          "text": [
            "20\n",
            "56\n"
          ]
        }
      ]
    },
    {
      "cell_type": "code",
      "source": [
        "bins = [20, 30, 40, 50, 60]\n",
        "\n",
        "labels = ['20-29', '30-39', '40-49', '50-56']\n",
        "df['Age'] = pd.cut(df['Age'], bins=bins, labels=labels)"
      ],
      "metadata": {
        "id": "Z3aQAvjsCgjz"
      },
      "execution_count": null,
      "outputs": []
    },
    {
      "cell_type": "markdown",
      "source": [
        "### Education"
      ],
      "metadata": {
        "id": "-QPfkEfBFPaJ"
      }
    },
    {
      "cell_type": "code",
      "source": [
        "# i'll consider these as ordinals.\n",
        "print(df['Edu'].min())\n",
        "print(df['Edu'].max())"
      ],
      "metadata": {
        "colab": {
          "base_uri": "https://localhost:8080/"
        },
        "id": "FhCFrb3i9Du8",
        "outputId": "c9f21816-89db-4fdf-86fb-2b7c14023bfe"
      },
      "execution_count": null,
      "outputs": [
        {
          "output_type": "stream",
          "name": "stdout",
          "text": [
            "1\n",
            "5\n"
          ]
        }
      ]
    },
    {
      "cell_type": "markdown",
      "source": [
        "### Years Employed"
      ],
      "metadata": {
        "id": "dGxI2pKHFRZR"
      }
    },
    {
      "cell_type": "code",
      "source": [
        "print(df['Years_Employed'].min())\n",
        "print(df['Years_Employed'].max())"
      ],
      "metadata": {
        "colab": {
          "base_uri": "https://localhost:8080/"
        },
        "id": "I7tZClxr95XT",
        "outputId": "8f2f872a-717a-4312-8cf0-5931421503fb"
      },
      "execution_count": null,
      "outputs": [
        {
          "output_type": "stream",
          "name": "stdout",
          "text": [
            "0\n",
            "33\n"
          ]
        }
      ]
    },
    {
      "cell_type": "code",
      "source": [
        "bins = [0, 5, 10, 20, 30, 35]\n",
        "\n",
        "labels = ['0-4', '5-9', '10-19', '20-29', '30-34']\n",
        "df['Years_Employed'] = pd.cut(df['Years_Employed'], bins=bins, labels=labels)"
      ],
      "metadata": {
        "id": "r1CdYdGYEtfx"
      },
      "execution_count": null,
      "outputs": []
    },
    {
      "cell_type": "markdown",
      "source": [
        "### Income"
      ],
      "metadata": {
        "id": "5vnW1DYEFT4o"
      }
    },
    {
      "cell_type": "code",
      "source": [
        "# I'm going to leave these values as they are, but will convert them to floats and consider them as numeric values.\n",
        "print(df['Income'].min())\n",
        "print(df['Income'].max())"
      ],
      "metadata": {
        "colab": {
          "base_uri": "https://localhost:8080/"
        },
        "id": "sJHzcXap889l",
        "outputId": "22c96f4a-00f2-4c9a-8437-ae2801a89b9f"
      },
      "execution_count": null,
      "outputs": [
        {
          "output_type": "stream",
          "name": "stdout",
          "text": [
            "13\n",
            "446\n"
          ]
        }
      ]
    },
    {
      "cell_type": "code",
      "source": [
        "df['Income'] = df['Income'].astype(float)"
      ],
      "metadata": {
        "id": "bcgJGD1IFNNg"
      },
      "execution_count": null,
      "outputs": []
    },
    {
      "cell_type": "code",
      "source": [
        "df.head()"
      ],
      "metadata": {
        "colab": {
          "base_uri": "https://localhost:8080/",
          "height": 237
        },
        "id": "VGP6sM343ju-",
        "outputId": "3cb84649-07e6-4e9d-96cb-e25ac3b8c9b7"
      },
      "execution_count": null,
      "outputs": [
        {
          "output_type": "execute_result",
          "data": {
            "text/plain": [
              "               Age  Edu Years_Employed  Income  Card_Debt  Other_Debt  \\\n",
              "Customer Id                                                             \n",
              "1            40-49    2            5-9    19.0      0.124       1.073   \n",
              "2            40-49    1          20-29   100.0      4.582       8.218   \n",
              "3            30-39    2            5-9    57.0      6.111       5.802   \n",
              "4            20-29    2            0-4    19.0      0.681       0.516   \n",
              "5            40-49    1          30-34   253.0      9.308       8.908   \n",
              "\n",
              "             Defaulted  DebtIncomeRatio  \n",
              "Customer Id                              \n",
              "1                  0.0              6.3  \n",
              "2                  0.0             12.8  \n",
              "3                  1.0             20.9  \n",
              "4                  0.0              6.3  \n",
              "5                  0.0              7.2  "
            ],
            "text/html": [
              "\n",
              "  <div id=\"df-03d569ae-6a32-4356-88f1-34bc55480f51\">\n",
              "    <div class=\"colab-df-container\">\n",
              "      <div>\n",
              "<style scoped>\n",
              "    .dataframe tbody tr th:only-of-type {\n",
              "        vertical-align: middle;\n",
              "    }\n",
              "\n",
              "    .dataframe tbody tr th {\n",
              "        vertical-align: top;\n",
              "    }\n",
              "\n",
              "    .dataframe thead th {\n",
              "        text-align: right;\n",
              "    }\n",
              "</style>\n",
              "<table border=\"1\" class=\"dataframe\">\n",
              "  <thead>\n",
              "    <tr style=\"text-align: right;\">\n",
              "      <th></th>\n",
              "      <th>Age</th>\n",
              "      <th>Edu</th>\n",
              "      <th>Years_Employed</th>\n",
              "      <th>Income</th>\n",
              "      <th>Card_Debt</th>\n",
              "      <th>Other_Debt</th>\n",
              "      <th>Defaulted</th>\n",
              "      <th>DebtIncomeRatio</th>\n",
              "    </tr>\n",
              "    <tr>\n",
              "      <th>Customer Id</th>\n",
              "      <th></th>\n",
              "      <th></th>\n",
              "      <th></th>\n",
              "      <th></th>\n",
              "      <th></th>\n",
              "      <th></th>\n",
              "      <th></th>\n",
              "      <th></th>\n",
              "    </tr>\n",
              "  </thead>\n",
              "  <tbody>\n",
              "    <tr>\n",
              "      <th>1</th>\n",
              "      <td>40-49</td>\n",
              "      <td>2</td>\n",
              "      <td>5-9</td>\n",
              "      <td>19.0</td>\n",
              "      <td>0.124</td>\n",
              "      <td>1.073</td>\n",
              "      <td>0.0</td>\n",
              "      <td>6.3</td>\n",
              "    </tr>\n",
              "    <tr>\n",
              "      <th>2</th>\n",
              "      <td>40-49</td>\n",
              "      <td>1</td>\n",
              "      <td>20-29</td>\n",
              "      <td>100.0</td>\n",
              "      <td>4.582</td>\n",
              "      <td>8.218</td>\n",
              "      <td>0.0</td>\n",
              "      <td>12.8</td>\n",
              "    </tr>\n",
              "    <tr>\n",
              "      <th>3</th>\n",
              "      <td>30-39</td>\n",
              "      <td>2</td>\n",
              "      <td>5-9</td>\n",
              "      <td>57.0</td>\n",
              "      <td>6.111</td>\n",
              "      <td>5.802</td>\n",
              "      <td>1.0</td>\n",
              "      <td>20.9</td>\n",
              "    </tr>\n",
              "    <tr>\n",
              "      <th>4</th>\n",
              "      <td>20-29</td>\n",
              "      <td>2</td>\n",
              "      <td>0-4</td>\n",
              "      <td>19.0</td>\n",
              "      <td>0.681</td>\n",
              "      <td>0.516</td>\n",
              "      <td>0.0</td>\n",
              "      <td>6.3</td>\n",
              "    </tr>\n",
              "    <tr>\n",
              "      <th>5</th>\n",
              "      <td>40-49</td>\n",
              "      <td>1</td>\n",
              "      <td>30-34</td>\n",
              "      <td>253.0</td>\n",
              "      <td>9.308</td>\n",
              "      <td>8.908</td>\n",
              "      <td>0.0</td>\n",
              "      <td>7.2</td>\n",
              "    </tr>\n",
              "  </tbody>\n",
              "</table>\n",
              "</div>\n",
              "      <button class=\"colab-df-convert\" onclick=\"convertToInteractive('df-03d569ae-6a32-4356-88f1-34bc55480f51')\"\n",
              "              title=\"Convert this dataframe to an interactive table.\"\n",
              "              style=\"display:none;\">\n",
              "        \n",
              "  <svg xmlns=\"http://www.w3.org/2000/svg\" height=\"24px\"viewBox=\"0 0 24 24\"\n",
              "       width=\"24px\">\n",
              "    <path d=\"M0 0h24v24H0V0z\" fill=\"none\"/>\n",
              "    <path d=\"M18.56 5.44l.94 2.06.94-2.06 2.06-.94-2.06-.94-.94-2.06-.94 2.06-2.06.94zm-11 1L8.5 8.5l.94-2.06 2.06-.94-2.06-.94L8.5 2.5l-.94 2.06-2.06.94zm10 10l.94 2.06.94-2.06 2.06-.94-2.06-.94-.94-2.06-.94 2.06-2.06.94z\"/><path d=\"M17.41 7.96l-1.37-1.37c-.4-.4-.92-.59-1.43-.59-.52 0-1.04.2-1.43.59L10.3 9.45l-7.72 7.72c-.78.78-.78 2.05 0 2.83L4 21.41c.39.39.9.59 1.41.59.51 0 1.02-.2 1.41-.59l7.78-7.78 2.81-2.81c.8-.78.8-2.07 0-2.86zM5.41 20L4 18.59l7.72-7.72 1.47 1.35L5.41 20z\"/>\n",
              "  </svg>\n",
              "      </button>\n",
              "      \n",
              "  <style>\n",
              "    .colab-df-container {\n",
              "      display:flex;\n",
              "      flex-wrap:wrap;\n",
              "      gap: 12px;\n",
              "    }\n",
              "\n",
              "    .colab-df-convert {\n",
              "      background-color: #E8F0FE;\n",
              "      border: none;\n",
              "      border-radius: 50%;\n",
              "      cursor: pointer;\n",
              "      display: none;\n",
              "      fill: #1967D2;\n",
              "      height: 32px;\n",
              "      padding: 0 0 0 0;\n",
              "      width: 32px;\n",
              "    }\n",
              "\n",
              "    .colab-df-convert:hover {\n",
              "      background-color: #E2EBFA;\n",
              "      box-shadow: 0px 1px 2px rgba(60, 64, 67, 0.3), 0px 1px 3px 1px rgba(60, 64, 67, 0.15);\n",
              "      fill: #174EA6;\n",
              "    }\n",
              "\n",
              "    [theme=dark] .colab-df-convert {\n",
              "      background-color: #3B4455;\n",
              "      fill: #D2E3FC;\n",
              "    }\n",
              "\n",
              "    [theme=dark] .colab-df-convert:hover {\n",
              "      background-color: #434B5C;\n",
              "      box-shadow: 0px 1px 3px 1px rgba(0, 0, 0, 0.15);\n",
              "      filter: drop-shadow(0px 1px 2px rgba(0, 0, 0, 0.3));\n",
              "      fill: #FFFFFF;\n",
              "    }\n",
              "  </style>\n",
              "\n",
              "      <script>\n",
              "        const buttonEl =\n",
              "          document.querySelector('#df-03d569ae-6a32-4356-88f1-34bc55480f51 button.colab-df-convert');\n",
              "        buttonEl.style.display =\n",
              "          google.colab.kernel.accessAllowed ? 'block' : 'none';\n",
              "\n",
              "        async function convertToInteractive(key) {\n",
              "          const element = document.querySelector('#df-03d569ae-6a32-4356-88f1-34bc55480f51');\n",
              "          const dataTable =\n",
              "            await google.colab.kernel.invokeFunction('convertToInteractive',\n",
              "                                                     [key], {});\n",
              "          if (!dataTable) return;\n",
              "\n",
              "          const docLinkHtml = 'Like what you see? Visit the ' +\n",
              "            '<a target=\"_blank\" href=https://colab.research.google.com/notebooks/data_table.ipynb>data table notebook</a>'\n",
              "            + ' to learn more about interactive tables.';\n",
              "          element.innerHTML = '';\n",
              "          dataTable['output_type'] = 'display_data';\n",
              "          await google.colab.output.renderOutput(dataTable, element);\n",
              "          const docLink = document.createElement('div');\n",
              "          docLink.innerHTML = docLinkHtml;\n",
              "          element.appendChild(docLink);\n",
              "        }\n",
              "      </script>\n",
              "    </div>\n",
              "  </div>\n",
              "  "
            ]
          },
          "metadata": {},
          "execution_count": 59
        }
      ]
    }
  ]
}